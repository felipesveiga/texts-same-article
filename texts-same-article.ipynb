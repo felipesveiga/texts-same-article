{
 "cells": [
  {
   "cell_type": "markdown",
   "id": "9731541b-938e-4268-82c8-b12e676c37b3",
   "metadata": {},
   "source": [
    "<h1 style='font-size:40px'> Texts Common Origin Analysis</h1>\n",
    "<div> \n",
    "    <ul style='font-size:20px'> \n",
    "        <li>\n",
    "            The present project aims at conceiving a ML system designed for verifying whether two pieces of texts actually came from the same article.\n",
    "        </li>\n",
    "        <li>\n",
    "            The corpus we are dealing with has been extracted from Wikipedia by Professor Jeff Heaton and published at <a href='https://www.kaggle.com/datasets/jeffheaton/are-two-sentences-of-the-same-topic'>Kaggle</a>.\n",
    "        </li>\n",
    "    </ul>\n",
    " </div>"
   ]
  },
  {
   "cell_type": "code",
   "execution_count": 3,
   "id": "a3603e2b-d0ae-4156-89ab-f3d374edebea",
   "metadata": {},
   "outputs": [
    {
     "data": {
      "text/html": [
       "<div>\n",
       "<style scoped>\n",
       "    .dataframe tbody tr th:only-of-type {\n",
       "        vertical-align: middle;\n",
       "    }\n",
       "\n",
       "    .dataframe tbody tr th {\n",
       "        vertical-align: top;\n",
       "    }\n",
       "\n",
       "    .dataframe thead th {\n",
       "        text-align: right;\n",
       "    }\n",
       "</style>\n",
       "<table border=\"1\" class=\"dataframe\">\n",
       "  <thead>\n",
       "    <tr style=\"text-align: right;\">\n",
       "      <th></th>\n",
       "      <th>sent1</th>\n",
       "      <th>sent2</th>\n",
       "      <th>same_source</th>\n",
       "    </tr>\n",
       "  </thead>\n",
       "  <tbody>\n",
       "    <tr>\n",
       "      <th>0</th>\n",
       "      <td>June – Moctezuma II, Aztec ruler of Tenochtitl...</td>\n",
       "      <td>The Swedish regent Sten Sture the Younger is m...</td>\n",
       "      <td>1</td>\n",
       "    </tr>\n",
       "    <tr>\n",
       "      <th>1</th>\n",
       "      <td>The population was 1,097 at the 2010 census.</td>\n",
       "      <td>Like other Latino neighborhoods in New York Ci...</td>\n",
       "      <td>0</td>\n",
       "    </tr>\n",
       "    <tr>\n",
       "      <th>2</th>\n",
       "      <td>Europe and the Islamic World: A History.</td>\n",
       "      <td>There are no plans to resurrect it.</td>\n",
       "      <td>0</td>\n",
       "    </tr>\n",
       "    <tr>\n",
       "      <th>3</th>\n",
       "      <td>Even where only a small charge is produced, it...</td>\n",
       "      <td>The Clarion-Limestone Area School District pro...</td>\n",
       "      <td>0</td>\n",
       "    </tr>\n",
       "    <tr>\n",
       "      <th>4</th>\n",
       "      <td>The highlight of Croatias recent infrastructur...</td>\n",
       "      <td>The closest analogy with the modern Web browse...</td>\n",
       "      <td>0</td>\n",
       "    </tr>\n",
       "  </tbody>\n",
       "</table>\n",
       "</div>"
      ],
      "text/plain": [
       "                                               sent1  \\\n",
       "0  June – Moctezuma II, Aztec ruler of Tenochtitl...   \n",
       "1       The population was 1,097 at the 2010 census.   \n",
       "2           Europe and the Islamic World: A History.   \n",
       "3  Even where only a small charge is produced, it...   \n",
       "4  The highlight of Croatias recent infrastructur...   \n",
       "\n",
       "                                               sent2  same_source  \n",
       "0  The Swedish regent Sten Sture the Younger is m...            1  \n",
       "1  Like other Latino neighborhoods in New York Ci...            0  \n",
       "2                There are no plans to resurrect it.            0  \n",
       "3  The Clarion-Limestone Area School District pro...            0  \n",
       "4  The closest analogy with the modern Web browse...            0  "
      ]
     },
     "execution_count": 3,
     "metadata": {},
     "output_type": "execute_result"
    }
   ],
   "source": [
    "import pandas as pd\n",
    "import numpy as np\n",
    "\n",
    "# Altering pandas' default maximum column width.\n",
    "pd.set_option('display.max_colwidth', 50)\n",
    "\n",
    "# Loading the file.\n",
    "df = pd.read_csv('data/train.csv').drop('id', axis=1)\n",
    "df.head()"
   ]
  },
  {
   "cell_type": "markdown",
   "id": "58ac2c6d-8975-40ae-99f1-00d47511a2ab",
   "metadata": {},
   "source": [
    "<h2 style='font-size:30px'> Dataset Overview</h2>\n",
    "<div> \n",
    "    <ul style='font-size:20px'> \n",
    "        <li>\n",
    "            Now let's explore the texts - especially those from the same articles - so that we can think about a sensible strategy to succeed in this challenge.\n",
    "        </li>\n",
    "    </ul>\n",
    " </div>"
   ]
  },
  {
   "cell_type": "code",
   "execution_count": 4,
   "id": "fc541688-bce6-4840-94c7-9deabbcf2072",
   "metadata": {},
   "outputs": [
    {
     "data": {
      "text/plain": [
       "same_source\n",
       "1    0.500488\n",
       "0    0.499512\n",
       "Name: proportion, dtype: float64"
      ]
     },
     "execution_count": 4,
     "metadata": {},
     "output_type": "execute_result"
    }
   ],
   "source": [
    "# Note that we are dealing with a well balanced dataset.\n",
    "df['same_source'].value_counts(normalize=True)"
   ]
  },
  {
   "cell_type": "code",
   "execution_count": 5,
   "id": "4155a29a-aeb0-4476-b8e9-1ba6b589a9ee",
   "metadata": {},
   "outputs": [],
   "source": [
    "# Now, I've considered convenient to create a function that prints out\n",
    "# instances from each target.\n",
    "from pyboxen import boxen\n",
    "from typing import Literal\n",
    "\n",
    "def boxen_samples(df:pd.DataFrame, target:Literal[0, 1], sample_size:int=5, random_size:int=42)->None:\n",
    "    '''\n",
    "        Prints out some pairs of texts from a certain target in a `pyboxen.boxen` format.\n",
    "\n",
    "        Note: Texts from the positive class are displayed inside green boxes, whereas the ones\n",
    "        from the negative target in red ones.\n",
    "        \n",
    "        Parameters\n",
    "        ----------\n",
    "        `df`: `pd.DataFrame`\n",
    "            The project's dataset.\n",
    "        `target`: Literal[0, 1]\n",
    "            The target group from which to make samples.\n",
    "        `sample_size`: int, defaults to 5\n",
    "            The amount of instances to print.\n",
    "        `random_state`: int, defaults to 42\n",
    "            The sampling random state.\n",
    "    '''\n",
    "    color = 'green' if target == 1 else 'red' # Defining the boxen's color according to the wished target.\n",
    "    df_sample = df[df['same_source']==target].sample(sample_size, random_state=random_size)\n",
    "\n",
    "    for i, series in df_sample.iterrows():\n",
    "        print(boxen(f'Sentence 1: {series[\"sent1\"]} \\n\\nSentence 2: {series[\"sent2\"]}', title=f'Row {i}', color=color))"
   ]
  },
  {
   "cell_type": "code",
   "execution_count": 6,
   "id": "8db51884-7158-4f75-abaf-40818d7a54d4",
   "metadata": {},
   "outputs": [
    {
     "data": {
      "text/html": [
       "<pre style=\"white-space:pre;overflow-x:auto;line-height:normal;font-family:Menlo,'DejaVu Sans Mono',consolas,'Courier New',monospace\"></pre>\n"
      ],
      "text/plain": []
     },
     "metadata": {},
     "output_type": "display_data"
    },
    {
     "name": "stdout",
     "output_type": "stream",
     "text": [
      "\u001b[32m╭─\u001b[0m\u001b[32m Row 97148 \u001b[0m\u001b[32m────────────────────────────────────────────────────────────────────────────────────────────────────\u001b[0m\u001b[32m─╮\u001b[0m\n",
      "\u001b[32m│\u001b[0mSentence 1: The racial makeup of the town was 97.56% White, 0.41% African American, 0.18% Native American, 0.41% \u001b[32m│\u001b[0m\n",
      "\u001b[32m│\u001b[0mAsian, 0.28% from other races, and 1.15% from two or more races.                                                 \u001b[32m│\u001b[0m\n",
      "\u001b[32m│\u001b[0m                                                                                                                 \u001b[32m│\u001b[0m\n",
      "\u001b[32m│\u001b[0mSentence 2: Originally Plantation Number 9 by the Court of Massachusetts Bay, Huntington has a colorful history, \u001b[32m│\u001b[0m\n",
      "\u001b[32m│\u001b[0mhinted at by the towns incorporation date of March 5, 1855, decades later than the towns around it.              \u001b[32m│\u001b[0m\n",
      "\u001b[32m╰─────────────────────────────────────────────────────────────────────────────────────────────────────────────────╯\u001b[0m\n",
      "\n"
     ]
    },
    {
     "data": {
      "text/html": [
       "<pre style=\"white-space:pre;overflow-x:auto;line-height:normal;font-family:Menlo,'DejaVu Sans Mono',consolas,'Courier New',monospace\"></pre>\n"
      ],
      "text/plain": []
     },
     "metadata": {},
     "output_type": "display_data"
    },
    {
     "name": "stdout",
     "output_type": "stream",
     "text": [
      "\u001b[32m╭─\u001b[0m\u001b[32m Row 107031 \u001b[0m\u001b[32m───────────────────────────────────────────────────────────────────────────────────────────────────\u001b[0m\u001b[32m─╮\u001b[0m\n",
      "\u001b[32m│\u001b[0m Sentence 1: Camelot is a castle and court associated with the legendary King Arthur.                            \u001b[32m│\u001b[0m\n",
      "\u001b[32m│\u001b[0m                                                                                                                 \u001b[32m│\u001b[0m\n",
      "\u001b[32m│\u001b[0m Sentence 2: The name of the Romano-British town of Camulodunum (modern Colchester) was derived from the Celtic  \u001b[32m│\u001b[0m\n",
      "\u001b[32m│\u001b[0m god Camulus.                                                                                                    \u001b[32m│\u001b[0m\n",
      "\u001b[32m╰─────────────────────────────────────────────────────────────────────────────────────────────────────────────────╯\u001b[0m\n",
      "\n"
     ]
    },
    {
     "data": {
      "text/html": [
       "<pre style=\"white-space:pre;overflow-x:auto;line-height:normal;font-family:Menlo,'DejaVu Sans Mono',consolas,'Courier New',monospace\"></pre>\n"
      ],
      "text/plain": []
     },
     "metadata": {},
     "output_type": "display_data"
    },
    {
     "name": "stdout",
     "output_type": "stream",
     "text": [
      "\u001b[32m╭─\u001b[0m\u001b[32m Row 6853 \u001b[0m\u001b[32m─────────────────────────────────────────────────────────────────────────────────────────────────────\u001b[0m\u001b[32m─╮\u001b[0m\n",
      "\u001b[32m│\u001b[0mSentence 1: Celestial historian Richard Allen noted that unlike the other constellations introduced by Plancius  \u001b[32m│\u001b[0m\n",
      "\u001b[32m│\u001b[0mand La Caille, Phoenix has actual precedent in ancient astronomy, as the Arabs saw this formation as representing\u001b[32m│\u001b[0m\n",
      "\u001b[32m│\u001b[0myoung ostriches, Al Riāl, or as a griffin or eagle.                                                              \u001b[32m│\u001b[0m\n",
      "\u001b[32m│\u001b[0m                                                                                                                 \u001b[32m│\u001b[0m\n",
      "\u001b[32m│\u001b[0mSentence 2: BD is of spectral type A1V, and ranges between magnitudes 5.90 and 5.94.                             \u001b[32m│\u001b[0m\n",
      "\u001b[32m╰─────────────────────────────────────────────────────────────────────────────────────────────────────────────────╯\u001b[0m\n",
      "\n"
     ]
    },
    {
     "data": {
      "text/html": [
       "<pre style=\"white-space:pre;overflow-x:auto;line-height:normal;font-family:Menlo,'DejaVu Sans Mono',consolas,'Courier New',monospace\"></pre>\n"
      ],
      "text/plain": []
     },
     "metadata": {},
     "output_type": "display_data"
    },
    {
     "name": "stdout",
     "output_type": "stream",
     "text": [
      "\u001b[32m╭─\u001b[0m\u001b[32m Row 5112 \u001b[0m\u001b[32m────────────────────────────────────────────────────────────────────────\u001b[0m\u001b[32m─╮\u001b[0m                             \n",
      "\u001b[32m│\u001b[0mSentence 1: Hispanic or Latino of any race were 0.81% of the population.            \u001b[32m│\u001b[0m                             \n",
      "\u001b[32m│\u001b[0m                                                                                    \u001b[32m│\u001b[0m                             \n",
      "\u001b[32m│\u001b[0mSentence 2: There were 87 housing units at an average density of 2.4/sqmi (0.9/km²).\u001b[32m│\u001b[0m                             \n",
      "\u001b[32m╰────────────────────────────────────────────────────────────────────────────────────╯\u001b[0m                             \n",
      "\n"
     ]
    },
    {
     "data": {
      "text/html": [
       "<pre style=\"white-space:pre;overflow-x:auto;line-height:normal;font-family:Menlo,'DejaVu Sans Mono',consolas,'Courier New',monospace\"></pre>\n"
      ],
      "text/plain": []
     },
     "metadata": {},
     "output_type": "display_data"
    },
    {
     "name": "stdout",
     "output_type": "stream",
     "text": [
      "\u001b[32m╭─\u001b[0m\u001b[32m Row 24352 \u001b[0m\u001b[32m────────────────────────────────────────────────────────────────────────────────────────────────────\u001b[0m\u001b[32m─╮\u001b[0m\n",
      "\u001b[32m│\u001b[0m Sentence 1: The population density was 4,519.4 people per square mile (1,621.6/km²).                            \u001b[32m│\u001b[0m\n",
      "\u001b[32m│\u001b[0m                                                                                                                 \u001b[32m│\u001b[0m\n",
      "\u001b[32m│\u001b[0m Sentence 2: It is bordered to the west by Goose Creek, to the northwest by Barbourmeade, to the north by Manor  \u001b[32m│\u001b[0m\n",
      "\u001b[32m│\u001b[0m Creek, to the east by Ten Broeck, and to the south by a portion of Louisville.                                  \u001b[32m│\u001b[0m\n",
      "\u001b[32m╰─────────────────────────────────────────────────────────────────────────────────────────────────────────────────╯\u001b[0m\n",
      "\n"
     ]
    }
   ],
   "source": [
    "# Instances from the positive class.\n",
    "boxen_samples(df, 1)"
   ]
  },
  {
   "cell_type": "code",
   "execution_count": 7,
   "id": "021ea065-0960-4503-b41a-5cc897f3c5d0",
   "metadata": {},
   "outputs": [
    {
     "data": {
      "text/html": [
       "<pre style=\"white-space:pre;overflow-x:auto;line-height:normal;font-family:Menlo,'DejaVu Sans Mono',consolas,'Courier New',monospace\"></pre>\n"
      ],
      "text/plain": []
     },
     "metadata": {},
     "output_type": "display_data"
    },
    {
     "name": "stdout",
     "output_type": "stream",
     "text": [
      "\u001b[31m╭─\u001b[0m\u001b[31m Row 48222 \u001b[0m\u001b[31m────────────────────────────────────────────────────────────────────────────────────────────────────\u001b[0m\u001b[31m─╮\u001b[0m\n",
      "\u001b[31m│\u001b[0mSentence 1: In addition, it is to be noted there was a 1-month period in which another woman served as the Acting\u001b[31m│\u001b[0m\n",
      "\u001b[31m│\u001b[0mPostmaster for Gratz during Ms. Suters tenure, perhaps due to a short leave of absence for Suter and, that acting\u001b[31m│\u001b[0m\n",
      "\u001b[31m│\u001b[0mrole was held by Roberta G Minish from December 21, 1927 until January 18, 1928 when Ms. Suter returned to her   \u001b[31m│\u001b[0m\n",
      "\u001b[31m│\u001b[0mposition as Postmaster.                                                                                          \u001b[31m│\u001b[0m\n",
      "\u001b[31m│\u001b[0m                                                                                                                 \u001b[31m│\u001b[0m\n",
      "\u001b[31m│\u001b[0mSentence 2: At the same time, the Chinese army of Ganzhou reconquers Turpan in Northern Xiongnu.                 \u001b[31m│\u001b[0m\n",
      "\u001b[31m╰─────────────────────────────────────────────────────────────────────────────────────────────────────────────────╯\u001b[0m\n",
      "\n"
     ]
    },
    {
     "data": {
      "text/html": [
       "<pre style=\"white-space:pre;overflow-x:auto;line-height:normal;font-family:Menlo,'DejaVu Sans Mono',consolas,'Courier New',monospace\"></pre>\n"
      ],
      "text/plain": []
     },
     "metadata": {},
     "output_type": "display_data"
    },
    {
     "name": "stdout",
     "output_type": "stream",
     "text": [
      "\u001b[31m╭─\u001b[0m\u001b[31m Row 90996 \u001b[0m\u001b[31m───────────────────────────────────────────────────────\u001b[0m\u001b[31m─╮\u001b[0m                                             \n",
      "\u001b[31m│\u001b[0mSentence 1: Sid and Nancy (1986), by Alex Cox.                      \u001b[31m│\u001b[0m                                             \n",
      "\u001b[31m│\u001b[0m                                                                    \u001b[31m│\u001b[0m                                             \n",
      "\u001b[31m│\u001b[0mSentence 2: South New Castle is located at  (40.975430, -80.344624).\u001b[31m│\u001b[0m                                             \n",
      "\u001b[31m╰────────────────────────────────────────────────────────────────────╯\u001b[0m                                             \n",
      "\n"
     ]
    },
    {
     "data": {
      "text/html": [
       "<pre style=\"white-space:pre;overflow-x:auto;line-height:normal;font-family:Menlo,'DejaVu Sans Mono',consolas,'Courier New',monospace\"></pre>\n"
      ],
      "text/plain": []
     },
     "metadata": {},
     "output_type": "display_data"
    },
    {
     "name": "stdout",
     "output_type": "stream",
     "text": [
      "\u001b[31m╭─\u001b[0m\u001b[31m Row 86016 \u001b[0m\u001b[31m────────────────────────────────────────────\u001b[0m\u001b[31m─╮\u001b[0m                                                        \n",
      "\u001b[31m│\u001b[0mSentence 1: Hard fall for man who had it all.            \u001b[31m│\u001b[0m                                                        \n",
      "\u001b[31m│\u001b[0m                                                         \u001b[31m│\u001b[0m                                                        \n",
      "\u001b[31m│\u001b[0mSentence 2: The population was 11,545 at the 2010 census.\u001b[31m│\u001b[0m                                                        \n",
      "\u001b[31m╰─────────────────────────────────────────────────────────╯\u001b[0m                                                        \n",
      "\n"
     ]
    },
    {
     "data": {
      "text/html": [
       "<pre style=\"white-space:pre;overflow-x:auto;line-height:normal;font-family:Menlo,'DejaVu Sans Mono',consolas,'Courier New',monospace\"></pre>\n"
      ],
      "text/plain": []
     },
     "metadata": {},
     "output_type": "display_data"
    },
    {
     "name": "stdout",
     "output_type": "stream",
     "text": [
      "\u001b[31m╭─\u001b[0m\u001b[31m Row 15535 \u001b[0m\u001b[31m────────────────────────────────────────────────────────────────────────────────────────────────────\u001b[0m\u001b[31m─╮\u001b[0m\n",
      "\u001b[31m│\u001b[0m  Sentence 1: For every 100 females, there were 96.3 males.                                                      \u001b[31m│\u001b[0m\n",
      "\u001b[31m│\u001b[0m                                                                                                                 \u001b[31m│\u001b[0m\n",
      "\u001b[31m│\u001b[0m  Sentence 2: The median income for a household in the CDP was $24,679, and the median income for a family was   \u001b[31m│\u001b[0m\n",
      "\u001b[31m│\u001b[0m  $31,719.                                                                                                       \u001b[31m│\u001b[0m\n",
      "\u001b[31m╰─────────────────────────────────────────────────────────────────────────────────────────────────────────────────╯\u001b[0m\n",
      "\n"
     ]
    },
    {
     "data": {
      "text/html": [
       "<pre style=\"white-space:pre;overflow-x:auto;line-height:normal;font-family:Menlo,'DejaVu Sans Mono',consolas,'Courier New',monospace\"></pre>\n"
      ],
      "text/plain": []
     },
     "metadata": {},
     "output_type": "display_data"
    },
    {
     "name": "stdout",
     "output_type": "stream",
     "text": [
      "\u001b[31m╭─\u001b[0m\u001b[31m Row 29459 \u001b[0m\u001b[31m────────────────────────────────────────────────────────────────────────────────────────────────────\u001b[0m\u001b[31m─╮\u001b[0m\n",
      "\u001b[31m│\u001b[0m  Sentence 1: For every 100 females, there were 118.3 males.                                                     \u001b[31m│\u001b[0m\n",
      "\u001b[31m│\u001b[0m                                                                                                                 \u001b[31m│\u001b[0m\n",
      "\u001b[31m│\u001b[0m  Sentence 2: As of the census of 2000, there were 226 people, 96 households, and 67 families residing in the    \u001b[31m│\u001b[0m\n",
      "\u001b[31m│\u001b[0m  township.                                                                                                      \u001b[31m│\u001b[0m\n",
      "\u001b[31m╰─────────────────────────────────────────────────────────────────────────────────────────────────────────────────╯\u001b[0m\n",
      "\n"
     ]
    }
   ],
   "source": [
    "# Instances from the negative class.\n",
    "boxen_samples(df, 0)"
   ]
  },
  {
   "cell_type": "markdown",
   "id": "1b743ac1-f366-4cd6-859b-dc4c717360fa",
   "metadata": {},
   "source": [
    "<h3 style='font-size:30px;font-style:italic'> Sample Analysis</h3>\n",
    "<div> \n",
    "    <ul style='font-size:20px'>\n",
    "        <li> \n",
    "            We can observe that most fragments sampled from the same article touches on similar topics (demographics, history), and so tend to resort to words typical from that knowledge area.\n",
    "        </li>\n",
    "        <li>\n",
    "            But we need to be aware that sometimes such documents use jargons that are very specific to their field (\"A1V\"). A model might not be able to reckognize such term-theme relation if the word is rare in the corpus.\n",
    "        </li>\n",
    "        <li>\n",
    "            And at last, note that there are some texts that although appear to be of the same subject, they do not belong to the same article! Just look at the last two red boxes, that deal with demographics.\n",
    "        </li>\n",
    "     </ul>\n",
    "</div>"
   ]
  },
  {
   "cell_type": "code",
   "execution_count": 8,
   "id": "04152318-71fd-4402-a8e1-93d7d324901f",
   "metadata": {},
   "outputs": [
    {
     "data": {
      "text/html": [
       "<style>#sk-container-id-1 {\n",
       "  /* Definition of color scheme common for light and dark mode */\n",
       "  --sklearn-color-text: black;\n",
       "  --sklearn-color-line: gray;\n",
       "  /* Definition of color scheme for unfitted estimators */\n",
       "  --sklearn-color-unfitted-level-0: #fff5e6;\n",
       "  --sklearn-color-unfitted-level-1: #f6e4d2;\n",
       "  --sklearn-color-unfitted-level-2: #ffe0b3;\n",
       "  --sklearn-color-unfitted-level-3: chocolate;\n",
       "  /* Definition of color scheme for fitted estimators */\n",
       "  --sklearn-color-fitted-level-0: #f0f8ff;\n",
       "  --sklearn-color-fitted-level-1: #d4ebff;\n",
       "  --sklearn-color-fitted-level-2: #b3dbfd;\n",
       "  --sklearn-color-fitted-level-3: cornflowerblue;\n",
       "\n",
       "  /* Specific color for light theme */\n",
       "  --sklearn-color-text-on-default-background: var(--sg-text-color, var(--theme-code-foreground, var(--jp-content-font-color1, black)));\n",
       "  --sklearn-color-background: var(--sg-background-color, var(--theme-background, var(--jp-layout-color0, white)));\n",
       "  --sklearn-color-border-box: var(--sg-text-color, var(--theme-code-foreground, var(--jp-content-font-color1, black)));\n",
       "  --sklearn-color-icon: #696969;\n",
       "\n",
       "  @media (prefers-color-scheme: dark) {\n",
       "    /* Redefinition of color scheme for dark theme */\n",
       "    --sklearn-color-text-on-default-background: var(--sg-text-color, var(--theme-code-foreground, var(--jp-content-font-color1, white)));\n",
       "    --sklearn-color-background: var(--sg-background-color, var(--theme-background, var(--jp-layout-color0, #111)));\n",
       "    --sklearn-color-border-box: var(--sg-text-color, var(--theme-code-foreground, var(--jp-content-font-color1, white)));\n",
       "    --sklearn-color-icon: #878787;\n",
       "  }\n",
       "}\n",
       "\n",
       "#sk-container-id-1 {\n",
       "  color: var(--sklearn-color-text);\n",
       "}\n",
       "\n",
       "#sk-container-id-1 pre {\n",
       "  padding: 0;\n",
       "}\n",
       "\n",
       "#sk-container-id-1 input.sk-hidden--visually {\n",
       "  border: 0;\n",
       "  clip: rect(1px 1px 1px 1px);\n",
       "  clip: rect(1px, 1px, 1px, 1px);\n",
       "  height: 1px;\n",
       "  margin: -1px;\n",
       "  overflow: hidden;\n",
       "  padding: 0;\n",
       "  position: absolute;\n",
       "  width: 1px;\n",
       "}\n",
       "\n",
       "#sk-container-id-1 div.sk-dashed-wrapped {\n",
       "  border: 1px dashed var(--sklearn-color-line);\n",
       "  margin: 0 0.4em 0.5em 0.4em;\n",
       "  box-sizing: border-box;\n",
       "  padding-bottom: 0.4em;\n",
       "  background-color: var(--sklearn-color-background);\n",
       "}\n",
       "\n",
       "#sk-container-id-1 div.sk-container {\n",
       "  /* jupyter's `normalize.less` sets `[hidden] { display: none; }`\n",
       "     but bootstrap.min.css set `[hidden] { display: none !important; }`\n",
       "     so we also need the `!important` here to be able to override the\n",
       "     default hidden behavior on the sphinx rendered scikit-learn.org.\n",
       "     See: https://github.com/scikit-learn/scikit-learn/issues/21755 */\n",
       "  display: inline-block !important;\n",
       "  position: relative;\n",
       "}\n",
       "\n",
       "#sk-container-id-1 div.sk-text-repr-fallback {\n",
       "  display: none;\n",
       "}\n",
       "\n",
       "div.sk-parallel-item,\n",
       "div.sk-serial,\n",
       "div.sk-item {\n",
       "  /* draw centered vertical line to link estimators */\n",
       "  background-image: linear-gradient(var(--sklearn-color-text-on-default-background), var(--sklearn-color-text-on-default-background));\n",
       "  background-size: 2px 100%;\n",
       "  background-repeat: no-repeat;\n",
       "  background-position: center center;\n",
       "}\n",
       "\n",
       "/* Parallel-specific style estimator block */\n",
       "\n",
       "#sk-container-id-1 div.sk-parallel-item::after {\n",
       "  content: \"\";\n",
       "  width: 100%;\n",
       "  border-bottom: 2px solid var(--sklearn-color-text-on-default-background);\n",
       "  flex-grow: 1;\n",
       "}\n",
       "\n",
       "#sk-container-id-1 div.sk-parallel {\n",
       "  display: flex;\n",
       "  align-items: stretch;\n",
       "  justify-content: center;\n",
       "  background-color: var(--sklearn-color-background);\n",
       "  position: relative;\n",
       "}\n",
       "\n",
       "#sk-container-id-1 div.sk-parallel-item {\n",
       "  display: flex;\n",
       "  flex-direction: column;\n",
       "}\n",
       "\n",
       "#sk-container-id-1 div.sk-parallel-item:first-child::after {\n",
       "  align-self: flex-end;\n",
       "  width: 50%;\n",
       "}\n",
       "\n",
       "#sk-container-id-1 div.sk-parallel-item:last-child::after {\n",
       "  align-self: flex-start;\n",
       "  width: 50%;\n",
       "}\n",
       "\n",
       "#sk-container-id-1 div.sk-parallel-item:only-child::after {\n",
       "  width: 0;\n",
       "}\n",
       "\n",
       "/* Serial-specific style estimator block */\n",
       "\n",
       "#sk-container-id-1 div.sk-serial {\n",
       "  display: flex;\n",
       "  flex-direction: column;\n",
       "  align-items: center;\n",
       "  background-color: var(--sklearn-color-background);\n",
       "  padding-right: 1em;\n",
       "  padding-left: 1em;\n",
       "}\n",
       "\n",
       "\n",
       "/* Toggleable style: style used for estimator/Pipeline/ColumnTransformer box that is\n",
       "clickable and can be expanded/collapsed.\n",
       "- Pipeline and ColumnTransformer use this feature and define the default style\n",
       "- Estimators will overwrite some part of the style using the `sk-estimator` class\n",
       "*/\n",
       "\n",
       "/* Pipeline and ColumnTransformer style (default) */\n",
       "\n",
       "#sk-container-id-1 div.sk-toggleable {\n",
       "  /* Default theme specific background. It is overwritten whether we have a\n",
       "  specific estimator or a Pipeline/ColumnTransformer */\n",
       "  background-color: var(--sklearn-color-background);\n",
       "}\n",
       "\n",
       "/* Toggleable label */\n",
       "#sk-container-id-1 label.sk-toggleable__label {\n",
       "  cursor: pointer;\n",
       "  display: block;\n",
       "  width: 100%;\n",
       "  margin-bottom: 0;\n",
       "  padding: 0.5em;\n",
       "  box-sizing: border-box;\n",
       "  text-align: center;\n",
       "}\n",
       "\n",
       "#sk-container-id-1 label.sk-toggleable__label-arrow:before {\n",
       "  /* Arrow on the left of the label */\n",
       "  content: \"▸\";\n",
       "  float: left;\n",
       "  margin-right: 0.25em;\n",
       "  color: var(--sklearn-color-icon);\n",
       "}\n",
       "\n",
       "#sk-container-id-1 label.sk-toggleable__label-arrow:hover:before {\n",
       "  color: var(--sklearn-color-text);\n",
       "}\n",
       "\n",
       "/* Toggleable content - dropdown */\n",
       "\n",
       "#sk-container-id-1 div.sk-toggleable__content {\n",
       "  max-height: 0;\n",
       "  max-width: 0;\n",
       "  overflow: hidden;\n",
       "  text-align: left;\n",
       "  /* unfitted */\n",
       "  background-color: var(--sklearn-color-unfitted-level-0);\n",
       "}\n",
       "\n",
       "#sk-container-id-1 div.sk-toggleable__content.fitted {\n",
       "  /* fitted */\n",
       "  background-color: var(--sklearn-color-fitted-level-0);\n",
       "}\n",
       "\n",
       "#sk-container-id-1 div.sk-toggleable__content pre {\n",
       "  margin: 0.2em;\n",
       "  border-radius: 0.25em;\n",
       "  color: var(--sklearn-color-text);\n",
       "  /* unfitted */\n",
       "  background-color: var(--sklearn-color-unfitted-level-0);\n",
       "}\n",
       "\n",
       "#sk-container-id-1 div.sk-toggleable__content.fitted pre {\n",
       "  /* unfitted */\n",
       "  background-color: var(--sklearn-color-fitted-level-0);\n",
       "}\n",
       "\n",
       "#sk-container-id-1 input.sk-toggleable__control:checked~div.sk-toggleable__content {\n",
       "  /* Expand drop-down */\n",
       "  max-height: 200px;\n",
       "  max-width: 100%;\n",
       "  overflow: auto;\n",
       "}\n",
       "\n",
       "#sk-container-id-1 input.sk-toggleable__control:checked~label.sk-toggleable__label-arrow:before {\n",
       "  content: \"▾\";\n",
       "}\n",
       "\n",
       "/* Pipeline/ColumnTransformer-specific style */\n",
       "\n",
       "#sk-container-id-1 div.sk-label input.sk-toggleable__control:checked~label.sk-toggleable__label {\n",
       "  color: var(--sklearn-color-text);\n",
       "  background-color: var(--sklearn-color-unfitted-level-2);\n",
       "}\n",
       "\n",
       "#sk-container-id-1 div.sk-label.fitted input.sk-toggleable__control:checked~label.sk-toggleable__label {\n",
       "  background-color: var(--sklearn-color-fitted-level-2);\n",
       "}\n",
       "\n",
       "/* Estimator-specific style */\n",
       "\n",
       "/* Colorize estimator box */\n",
       "#sk-container-id-1 div.sk-estimator input.sk-toggleable__control:checked~label.sk-toggleable__label {\n",
       "  /* unfitted */\n",
       "  background-color: var(--sklearn-color-unfitted-level-2);\n",
       "}\n",
       "\n",
       "#sk-container-id-1 div.sk-estimator.fitted input.sk-toggleable__control:checked~label.sk-toggleable__label {\n",
       "  /* fitted */\n",
       "  background-color: var(--sklearn-color-fitted-level-2);\n",
       "}\n",
       "\n",
       "#sk-container-id-1 div.sk-label label.sk-toggleable__label,\n",
       "#sk-container-id-1 div.sk-label label {\n",
       "  /* The background is the default theme color */\n",
       "  color: var(--sklearn-color-text-on-default-background);\n",
       "}\n",
       "\n",
       "/* On hover, darken the color of the background */\n",
       "#sk-container-id-1 div.sk-label:hover label.sk-toggleable__label {\n",
       "  color: var(--sklearn-color-text);\n",
       "  background-color: var(--sklearn-color-unfitted-level-2);\n",
       "}\n",
       "\n",
       "/* Label box, darken color on hover, fitted */\n",
       "#sk-container-id-1 div.sk-label.fitted:hover label.sk-toggleable__label.fitted {\n",
       "  color: var(--sklearn-color-text);\n",
       "  background-color: var(--sklearn-color-fitted-level-2);\n",
       "}\n",
       "\n",
       "/* Estimator label */\n",
       "\n",
       "#sk-container-id-1 div.sk-label label {\n",
       "  font-family: monospace;\n",
       "  font-weight: bold;\n",
       "  display: inline-block;\n",
       "  line-height: 1.2em;\n",
       "}\n",
       "\n",
       "#sk-container-id-1 div.sk-label-container {\n",
       "  text-align: center;\n",
       "}\n",
       "\n",
       "/* Estimator-specific */\n",
       "#sk-container-id-1 div.sk-estimator {\n",
       "  font-family: monospace;\n",
       "  border: 1px dotted var(--sklearn-color-border-box);\n",
       "  border-radius: 0.25em;\n",
       "  box-sizing: border-box;\n",
       "  margin-bottom: 0.5em;\n",
       "  /* unfitted */\n",
       "  background-color: var(--sklearn-color-unfitted-level-0);\n",
       "}\n",
       "\n",
       "#sk-container-id-1 div.sk-estimator.fitted {\n",
       "  /* fitted */\n",
       "  background-color: var(--sklearn-color-fitted-level-0);\n",
       "}\n",
       "\n",
       "/* on hover */\n",
       "#sk-container-id-1 div.sk-estimator:hover {\n",
       "  /* unfitted */\n",
       "  background-color: var(--sklearn-color-unfitted-level-2);\n",
       "}\n",
       "\n",
       "#sk-container-id-1 div.sk-estimator.fitted:hover {\n",
       "  /* fitted */\n",
       "  background-color: var(--sklearn-color-fitted-level-2);\n",
       "}\n",
       "\n",
       "/* Specification for estimator info (e.g. \"i\" and \"?\") */\n",
       "\n",
       "/* Common style for \"i\" and \"?\" */\n",
       "\n",
       ".sk-estimator-doc-link,\n",
       "a:link.sk-estimator-doc-link,\n",
       "a:visited.sk-estimator-doc-link {\n",
       "  float: right;\n",
       "  font-size: smaller;\n",
       "  line-height: 1em;\n",
       "  font-family: monospace;\n",
       "  background-color: var(--sklearn-color-background);\n",
       "  border-radius: 1em;\n",
       "  height: 1em;\n",
       "  width: 1em;\n",
       "  text-decoration: none !important;\n",
       "  margin-left: 1ex;\n",
       "  /* unfitted */\n",
       "  border: var(--sklearn-color-unfitted-level-1) 1pt solid;\n",
       "  color: var(--sklearn-color-unfitted-level-1);\n",
       "}\n",
       "\n",
       ".sk-estimator-doc-link.fitted,\n",
       "a:link.sk-estimator-doc-link.fitted,\n",
       "a:visited.sk-estimator-doc-link.fitted {\n",
       "  /* fitted */\n",
       "  border: var(--sklearn-color-fitted-level-1) 1pt solid;\n",
       "  color: var(--sklearn-color-fitted-level-1);\n",
       "}\n",
       "\n",
       "/* On hover */\n",
       "div.sk-estimator:hover .sk-estimator-doc-link:hover,\n",
       ".sk-estimator-doc-link:hover,\n",
       "div.sk-label-container:hover .sk-estimator-doc-link:hover,\n",
       ".sk-estimator-doc-link:hover {\n",
       "  /* unfitted */\n",
       "  background-color: var(--sklearn-color-unfitted-level-3);\n",
       "  color: var(--sklearn-color-background);\n",
       "  text-decoration: none;\n",
       "}\n",
       "\n",
       "div.sk-estimator.fitted:hover .sk-estimator-doc-link.fitted:hover,\n",
       ".sk-estimator-doc-link.fitted:hover,\n",
       "div.sk-label-container:hover .sk-estimator-doc-link.fitted:hover,\n",
       ".sk-estimator-doc-link.fitted:hover {\n",
       "  /* fitted */\n",
       "  background-color: var(--sklearn-color-fitted-level-3);\n",
       "  color: var(--sklearn-color-background);\n",
       "  text-decoration: none;\n",
       "}\n",
       "\n",
       "/* Span, style for the box shown on hovering the info icon */\n",
       ".sk-estimator-doc-link span {\n",
       "  display: none;\n",
       "  z-index: 9999;\n",
       "  position: relative;\n",
       "  font-weight: normal;\n",
       "  right: .2ex;\n",
       "  padding: .5ex;\n",
       "  margin: .5ex;\n",
       "  width: min-content;\n",
       "  min-width: 20ex;\n",
       "  max-width: 50ex;\n",
       "  color: var(--sklearn-color-text);\n",
       "  box-shadow: 2pt 2pt 4pt #999;\n",
       "  /* unfitted */\n",
       "  background: var(--sklearn-color-unfitted-level-0);\n",
       "  border: .5pt solid var(--sklearn-color-unfitted-level-3);\n",
       "}\n",
       "\n",
       ".sk-estimator-doc-link.fitted span {\n",
       "  /* fitted */\n",
       "  background: var(--sklearn-color-fitted-level-0);\n",
       "  border: var(--sklearn-color-fitted-level-3);\n",
       "}\n",
       "\n",
       ".sk-estimator-doc-link:hover span {\n",
       "  display: block;\n",
       "}\n",
       "\n",
       "/* \"?\"-specific style due to the `<a>` HTML tag */\n",
       "\n",
       "#sk-container-id-1 a.estimator_doc_link {\n",
       "  float: right;\n",
       "  font-size: 1rem;\n",
       "  line-height: 1em;\n",
       "  font-family: monospace;\n",
       "  background-color: var(--sklearn-color-background);\n",
       "  border-radius: 1rem;\n",
       "  height: 1rem;\n",
       "  width: 1rem;\n",
       "  text-decoration: none;\n",
       "  /* unfitted */\n",
       "  color: var(--sklearn-color-unfitted-level-1);\n",
       "  border: var(--sklearn-color-unfitted-level-1) 1pt solid;\n",
       "}\n",
       "\n",
       "#sk-container-id-1 a.estimator_doc_link.fitted {\n",
       "  /* fitted */\n",
       "  border: var(--sklearn-color-fitted-level-1) 1pt solid;\n",
       "  color: var(--sklearn-color-fitted-level-1);\n",
       "}\n",
       "\n",
       "/* On hover */\n",
       "#sk-container-id-1 a.estimator_doc_link:hover {\n",
       "  /* unfitted */\n",
       "  background-color: var(--sklearn-color-unfitted-level-3);\n",
       "  color: var(--sklearn-color-background);\n",
       "  text-decoration: none;\n",
       "}\n",
       "\n",
       "#sk-container-id-1 a.estimator_doc_link.fitted:hover {\n",
       "  /* fitted */\n",
       "  background-color: var(--sklearn-color-fitted-level-3);\n",
       "}\n",
       "</style><div id=\"sk-container-id-1\" class=\"sk-top-container\"><div class=\"sk-text-repr-fallback\"><pre>LatentDirichletAllocation()</pre><b>In a Jupyter environment, please rerun this cell to show the HTML representation or trust the notebook. <br />On GitHub, the HTML representation is unable to render, please try loading this page with nbviewer.org.</b></div><div class=\"sk-container\" hidden><div class=\"sk-item\"><div class=\"sk-estimator  sk-toggleable\"><input class=\"sk-toggleable__control sk-hidden--visually\" id=\"sk-estimator-id-1\" type=\"checkbox\" checked><label for=\"sk-estimator-id-1\" class=\"sk-toggleable__label  sk-toggleable__label-arrow \">&nbsp;&nbsp;LatentDirichletAllocation<a class=\"sk-estimator-doc-link \" rel=\"noreferrer\" target=\"_blank\" href=\"https://scikit-learn.org/1.5/modules/generated/sklearn.decomposition.LatentDirichletAllocation.html\">?<span>Documentation for LatentDirichletAllocation</span></a><span class=\"sk-estimator-doc-link \">i<span>Not fitted</span></span></label><div class=\"sk-toggleable__content \"><pre>LatentDirichletAllocation()</pre></div> </div></div></div></div>"
      ],
      "text/plain": [
       "LatentDirichletAllocation()"
      ]
     },
     "execution_count": 8,
     "metadata": {},
     "output_type": "execute_result"
    }
   ],
   "source": [
    "from sklearn.decomposition import LatentDirichletAllocation\n",
    "\n",
    "LatentDirichletAllocation()"
   ]
  },
  {
   "cell_type": "code",
   "execution_count": 9,
   "id": "3893032a-7952-4ed4-933f-2951c42b24c8",
   "metadata": {},
   "outputs": [
    {
     "name": "stdout",
     "output_type": "stream",
     "text": [
      "[master 46a27f5] Analisar os textos printados (boxen)\n",
      " 2 files changed, 36 insertions(+), 44 deletions(-)\n",
      "Enumerating objects: 7, done.\n",
      "Counting objects: 100% (7/7), done.\n",
      "Delta compression using up to 24 threads\n",
      "Compressing objects: 100% (4/4), done.\n",
      "Writing objects: 100% (4/4), 833 bytes | 833.00 KiB/s, done.\n",
      "Total 4 (delta 2), reused 0 (delta 0), pack-reused 0\n",
      "remote: Resolving deltas: 100% (2/2), completed with 2 local objects.\u001b[K\n",
      "To https://github.com/felipesveiga/texts-same-article.git\n",
      "   5e33b2b..46a27f5  master -> master\n"
     ]
    }
   ],
   "source": [
    "! git add .\n",
    "! git commit -m 'Iniciar LDA?'\n",
    "! git push"
   ]
  },
  {
   "cell_type": "markdown",
   "id": "b7251614-9e9e-47f6-9485-b4e582e7b03b",
   "metadata": {
    "editable": true,
    "slideshow": {
     "slide_type": ""
    },
    "tags": []
   },
   "source": [
    "<p style='color:red'>  Analisei os textos printados; Iniciar LDA?</p>"
   ]
  }
 ],
 "metadata": {
  "kernelspec": {
   "display_name": "texts-same-article",
   "language": "python",
   "name": "texts-same-article"
  },
  "language_info": {
   "codemirror_mode": {
    "name": "ipython",
    "version": 3
   },
   "file_extension": ".py",
   "mimetype": "text/x-python",
   "name": "python",
   "nbconvert_exporter": "python",
   "pygments_lexer": "ipython3",
   "version": "3.10.12"
  }
 },
 "nbformat": 4,
 "nbformat_minor": 5
}
