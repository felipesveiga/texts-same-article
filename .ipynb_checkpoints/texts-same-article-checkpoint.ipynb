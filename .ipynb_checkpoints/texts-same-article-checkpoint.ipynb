{
 "cells": [
  {
   "cell_type": "markdown",
   "id": "9731541b-938e-4268-82c8-b12e676c37b3",
   "metadata": {},
   "source": [
    "<h1 style='font-size:40px'> Texts Common Origin Analysis</h1>\n",
    "<div> \n",
    "    <ul style='font-size:20px'> \n",
    "        <li>\n",
    "            The present project aims at conceiving a ML system designed for verifying whether two pieces of texts actually came from the same article.\n",
    "        </li>\n",
    "        <li>\n",
    "            The corpus we are dealing with has been extracted from Wikipedia by Professor Jeff Heaton and published at Kaggle.\n",
    "        </li>\n",
    "    </ul>\n",
    " </div>"
   ]
  },
  {
   "cell_type": "code",
   "execution_count": 8,
   "id": "a3603e2b-d0ae-4156-89ab-f3d374edebea",
   "metadata": {},
   "outputs": [
    {
     "data": {
      "text/html": [
       "<div>\n",
       "<style scoped>\n",
       "    .dataframe tbody tr th:only-of-type {\n",
       "        vertical-align: middle;\n",
       "    }\n",
       "\n",
       "    .dataframe tbody tr th {\n",
       "        vertical-align: top;\n",
       "    }\n",
       "\n",
       "    .dataframe thead th {\n",
       "        text-align: right;\n",
       "    }\n",
       "</style>\n",
       "<table border=\"1\" class=\"dataframe\">\n",
       "  <thead>\n",
       "    <tr style=\"text-align: right;\">\n",
       "      <th></th>\n",
       "      <th>sent1</th>\n",
       "      <th>sent2</th>\n",
       "      <th>same_source</th>\n",
       "    </tr>\n",
       "  </thead>\n",
       "  <tbody>\n",
       "    <tr>\n",
       "      <th>0</th>\n",
       "      <td>June – Moctezuma II, Aztec ruler of Tenochtitl...</td>\n",
       "      <td>The Swedish regent Sten Sture the Younger is m...</td>\n",
       "      <td>1</td>\n",
       "    </tr>\n",
       "    <tr>\n",
       "      <th>1</th>\n",
       "      <td>The population was 1,097 at the 2010 census.</td>\n",
       "      <td>Like other Latino neighborhoods in New York Ci...</td>\n",
       "      <td>0</td>\n",
       "    </tr>\n",
       "    <tr>\n",
       "      <th>2</th>\n",
       "      <td>Europe and the Islamic World: A History.</td>\n",
       "      <td>There are no plans to resurrect it.</td>\n",
       "      <td>0</td>\n",
       "    </tr>\n",
       "    <tr>\n",
       "      <th>3</th>\n",
       "      <td>Even where only a small charge is produced, it...</td>\n",
       "      <td>The Clarion-Limestone Area School District pro...</td>\n",
       "      <td>0</td>\n",
       "    </tr>\n",
       "    <tr>\n",
       "      <th>4</th>\n",
       "      <td>The highlight of Croatias recent infrastructur...</td>\n",
       "      <td>The closest analogy with the modern Web browse...</td>\n",
       "      <td>0</td>\n",
       "    </tr>\n",
       "  </tbody>\n",
       "</table>\n",
       "</div>"
      ],
      "text/plain": [
       "                                               sent1  \\\n",
       "0  June – Moctezuma II, Aztec ruler of Tenochtitl...   \n",
       "1       The population was 1,097 at the 2010 census.   \n",
       "2           Europe and the Islamic World: A History.   \n",
       "3  Even where only a small charge is produced, it...   \n",
       "4  The highlight of Croatias recent infrastructur...   \n",
       "\n",
       "                                               sent2  same_source  \n",
       "0  The Swedish regent Sten Sture the Younger is m...            1  \n",
       "1  Like other Latino neighborhoods in New York Ci...            0  \n",
       "2                There are no plans to resurrect it.            0  \n",
       "3  The Clarion-Limestone Area School District pro...            0  \n",
       "4  The closest analogy with the modern Web browse...            0  "
      ]
     },
     "execution_count": 8,
     "metadata": {},
     "output_type": "execute_result"
    }
   ],
   "source": [
    "import pandas as pd\n",
    "\n",
    "# Altering pandas' default maximum column width.\n",
    "pd.set_option('display.max_colwidth', 50)\n",
    "\n",
    "# Loading the file.\n",
    "df = pd.read_csv('data/train.csv').drop('id', axis=1)\n",
    "df.head()"
   ]
  },
  {
   "cell_type": "code",
   "execution_count": 4,
   "id": "3893032a-7952-4ed4-933f-2951c42b24c8",
   "metadata": {},
   "outputs": [
    {
     "name": "stdout",
     "output_type": "stream",
     "text": [
      "[master 8c4c9cc] Iniciar projeto\n",
      " 2 files changed, 428 insertions(+)\n",
      " create mode 100644 .ipynb_checkpoints/texts-same-article-checkpoint.ipynb\n",
      " create mode 100644 texts-same-article.ipynb\n",
      "Enumerating objects: 5, done.\n",
      "Counting objects: 100% (5/5), done.\n",
      "Delta compression using up to 24 threads\n",
      "Compressing objects: 100% (4/4), done.\n",
      "Writing objects: 100% (4/4), 2.43 KiB | 2.43 MiB/s, done.\n",
      "Total 4 (delta 1), reused 0 (delta 0), pack-reused 0\n",
      "remote: Resolving deltas: 100% (1/1), completed with 1 local object.\u001b[K\n",
      "To https://github.com/felipesveiga/texts-same-article.git\n",
      "   50f3ed9..8c4c9cc  master -> master\n"
     ]
    }
   ],
   "source": [
    "! git add .\n",
    "! git commit -m 'Iniciar projeto'\n",
    "! git push"
   ]
  },
  {
   "cell_type": "markdown",
   "id": "b7251614-9e9e-47f6-9485-b4e582e7b03b",
   "metadata": {
    "editable": true,
    "slideshow": {
     "slide_type": ""
    },
    "tags": []
   },
   "source": [
    "<p style='color:red'> Baixei os dados do projeto; Criei o repo; Iniciar projeto</p>"
   ]
  }
 ],
 "metadata": {
  "kernelspec": {
   "display_name": "texts-same-article",
   "language": "python",
   "name": "texts-same-article"
  },
  "language_info": {
   "codemirror_mode": {
    "name": "ipython",
    "version": 3
   },
   "file_extension": ".py",
   "mimetype": "text/x-python",
   "name": "python",
   "nbconvert_exporter": "python",
   "pygments_lexer": "ipython3",
   "version": "3.10.12"
  }
 },
 "nbformat": 4,
 "nbformat_minor": 5
}
