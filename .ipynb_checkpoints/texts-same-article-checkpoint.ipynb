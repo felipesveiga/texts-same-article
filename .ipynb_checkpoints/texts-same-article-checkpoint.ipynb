{
 "cells": [
  {
   "cell_type": "code",
   "execution_count": 3,
   "id": "a3603e2b-d0ae-4156-89ab-f3d374edebea",
   "metadata": {},
   "outputs": [
    {
     "data": {
      "text/html": [
       "<div>\n",
       "<style scoped>\n",
       "    .dataframe tbody tr th:only-of-type {\n",
       "        vertical-align: middle;\n",
       "    }\n",
       "\n",
       "    .dataframe tbody tr th {\n",
       "        vertical-align: top;\n",
       "    }\n",
       "\n",
       "    .dataframe thead th {\n",
       "        text-align: right;\n",
       "    }\n",
       "</style>\n",
       "<table border=\"1\" class=\"dataframe\">\n",
       "  <thead>\n",
       "    <tr style=\"text-align: right;\">\n",
       "      <th></th>\n",
       "      <th>sent1</th>\n",
       "      <th>sent2</th>\n",
       "      <th>same_source</th>\n",
       "    </tr>\n",
       "  </thead>\n",
       "  <tbody>\n",
       "    <tr>\n",
       "      <th>0</th>\n",
       "      <td>June – Moctezuma II, Aztec ruler of Tenochtitl...</td>\n",
       "      <td>The Swedish regent Sten Sture the Younger is m...</td>\n",
       "      <td>1</td>\n",
       "    </tr>\n",
       "    <tr>\n",
       "      <th>1</th>\n",
       "      <td>The population was 1,097 at the 2010 census.</td>\n",
       "      <td>Like other Latino neighborhoods in New York Ci...</td>\n",
       "      <td>0</td>\n",
       "    </tr>\n",
       "    <tr>\n",
       "      <th>2</th>\n",
       "      <td>Europe and the Islamic World: A History.</td>\n",
       "      <td>There are no plans to resurrect it.</td>\n",
       "      <td>0</td>\n",
       "    </tr>\n",
       "    <tr>\n",
       "      <th>3</th>\n",
       "      <td>Even where only a small charge is produced, it...</td>\n",
       "      <td>The Clarion-Limestone Area School District pro...</td>\n",
       "      <td>0</td>\n",
       "    </tr>\n",
       "    <tr>\n",
       "      <th>4</th>\n",
       "      <td>The highlight of Croatias recent infrastructur...</td>\n",
       "      <td>The closest analogy with the modern Web browse...</td>\n",
       "      <td>0</td>\n",
       "    </tr>\n",
       "    <tr>\n",
       "      <th>...</th>\n",
       "      <td>...</td>\n",
       "      <td>...</td>\n",
       "      <td>...</td>\n",
       "    </tr>\n",
       "    <tr>\n",
       "      <th>129151</th>\n",
       "      <td>Start ups face high uncertainty and do have hi...</td>\n",
       "      <td>Hispanic or Latino of any race were 0.58% of t...</td>\n",
       "      <td>0</td>\n",
       "    </tr>\n",
       "    <tr>\n",
       "      <th>129152</th>\n",
       "      <td>Then the turn-holder must draw a card, unseen,...</td>\n",
       "      <td>This continues until all of the players have t...</td>\n",
       "      <td>1</td>\n",
       "    </tr>\n",
       "    <tr>\n",
       "      <th>129153</th>\n",
       "      <td>There were 241 households out of which 22.4% h...</td>\n",
       "      <td>One match and one replay match from the first ...</td>\n",
       "      <td>0</td>\n",
       "    </tr>\n",
       "    <tr>\n",
       "      <th>129154</th>\n",
       "      <td>The name of the country of the Netherlands has...</td>\n",
       "      <td>An ethnic Uzbek, he is a former communist gene...</td>\n",
       "      <td>0</td>\n",
       "    </tr>\n",
       "    <tr>\n",
       "      <th>129155</th>\n",
       "      <td>Calumet Road was the last street of the origin...</td>\n",
       "      <td>His brother was Armand Heine, and both were co...</td>\n",
       "      <td>0</td>\n",
       "    </tr>\n",
       "  </tbody>\n",
       "</table>\n",
       "<p>129156 rows × 3 columns</p>\n",
       "</div>"
      ],
      "text/plain": [
       "                                                    sent1  \\\n",
       "0       June – Moctezuma II, Aztec ruler of Tenochtitl...   \n",
       "1            The population was 1,097 at the 2010 census.   \n",
       "2                Europe and the Islamic World: A History.   \n",
       "3       Even where only a small charge is produced, it...   \n",
       "4       The highlight of Croatias recent infrastructur...   \n",
       "...                                                   ...   \n",
       "129151  Start ups face high uncertainty and do have hi...   \n",
       "129152  Then the turn-holder must draw a card, unseen,...   \n",
       "129153  There were 241 households out of which 22.4% h...   \n",
       "129154  The name of the country of the Netherlands has...   \n",
       "129155  Calumet Road was the last street of the origin...   \n",
       "\n",
       "                                                    sent2  same_source  \n",
       "0       The Swedish regent Sten Sture the Younger is m...            1  \n",
       "1       Like other Latino neighborhoods in New York Ci...            0  \n",
       "2                     There are no plans to resurrect it.            0  \n",
       "3       The Clarion-Limestone Area School District pro...            0  \n",
       "4       The closest analogy with the modern Web browse...            0  \n",
       "...                                                   ...          ...  \n",
       "129151  Hispanic or Latino of any race were 0.58% of t...            0  \n",
       "129152  This continues until all of the players have t...            1  \n",
       "129153  One match and one replay match from the first ...            0  \n",
       "129154  An ethnic Uzbek, he is a former communist gene...            0  \n",
       "129155  His brother was Armand Heine, and both were co...            0  \n",
       "\n",
       "[129156 rows x 3 columns]"
      ]
     },
     "execution_count": 3,
     "metadata": {},
     "output_type": "execute_result"
    }
   ],
   "source": [
    "import pandas as pd\n",
    "\n",
    "pd.read_csv('data/train.csv').drop('id', axis=1)"
   ]
  },
  {
   "cell_type": "code",
   "execution_count": 21,
   "id": "3893032a-7952-4ed4-933f-2951c42b24c8",
   "metadata": {},
   "outputs": [
    {
     "name": "stdout",
     "output_type": "stream",
     "text": [
      "[master 803aba4] Revisar Example\n",
      " 2 files changed, 270 insertions(+), 24 deletions(-)\n",
      "Enumerating objects: 11, done.\n",
      "Counting objects: 100% (11/11), done.\n",
      "Delta compression using up to 24 threads\n",
      "Compressing objects: 100% (6/6), done.\n",
      "Writing objects: 100% (6/6), 2.68 KiB | 2.68 MiB/s, done.\n",
      "Total 6 (delta 3), reused 0 (delta 0), pack-reused 0\n",
      "remote: Resolving deltas: 100% (3/3), completed with 3 local objects.\u001b[K\n",
      "To https://github.com/felipesveiga/CDIB\n",
      "   c4372a0..803aba4  master -> master\n"
     ]
    }
   ],
   "source": [
    "! git add .\n",
    "! git commit -m 'Iniciar projeto'\n",
    "! git push"
   ]
  },
  {
   "cell_type": "markdown",
   "id": "b7251614-9e9e-47f6-9485-b4e582e7b03b",
   "metadata": {
    "editable": true,
    "slideshow": {
     "slide_type": ""
    },
    "tags": []
   },
   "source": [
    "<p style='color:red'> Baixei os dados do projeto; Criei o repo; Iniciar projeto</p>"
   ]
  }
 ],
 "metadata": {
  "kernelspec": {
   "display_name": "texts-same-article",
   "language": "python",
   "name": "texts-same-article"
  },
  "language_info": {
   "codemirror_mode": {
    "name": "ipython",
    "version": 3
   },
   "file_extension": ".py",
   "mimetype": "text/x-python",
   "name": "python",
   "nbconvert_exporter": "python",
   "pygments_lexer": "ipython3",
   "version": "3.10.12"
  }
 },
 "nbformat": 4,
 "nbformat_minor": 5
}
